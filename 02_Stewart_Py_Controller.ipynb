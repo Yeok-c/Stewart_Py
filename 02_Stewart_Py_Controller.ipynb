{
 "cells": [
  {
   "cell_type": "code",
   "execution_count": null,
   "metadata": {},
   "outputs": [],
   "source": []
  },
  {
   "cell_type": "markdown",
   "metadata": {},
   "source": [
    "This is part 1 of 3 in a series\n",
    "In the next section we discuss how to use this inverse kinematics as a tangible controller, what choices we have an their tradeoffs\n",
    "\n",
    "Special thanks to Dr. David Navarro for guidance and lecture slides"
   ]
  },
  {
   "cell_type": "markdown",
   "metadata": {},
   "source": [
    "1. Jacobian using leg lengths\n",
    "   1. Explain motivation of using Jacobian matrices\n",
    "   2. The ability to evaluate stability\n",
    "2. Jacobian using servo horns\n",
    "   1. Inverse kinematics prove difficult..? There's e,f,g which are latent variables\n",
    "   2. Interpolate\n",
    "   3. In this case we can still do linear and spline interpolation\n",
    "3. Jacobian using servo horn is not impossible\n",
    "   1. Require some sort of extremely non-linear mapping\n",
    "   2. Perhaps....?? a NN \n",
    "      1. That's next section - using reinforcemnet learning or something"
   ]
  }
 ],
 "metadata": {
  "language_info": {
   "name": "python"
  },
  "orig_nbformat": 4
 },
 "nbformat": 4,
 "nbformat_minor": 2
}
