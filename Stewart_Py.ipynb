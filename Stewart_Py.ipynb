{
 "cells": [
  {
   "cell_type": "code",
   "execution_count": null,
   "metadata": {},
   "outputs": [
    {
     "ename": "",
     "evalue": "",
     "output_type": "error",
     "traceback": [
      "\u001b[1;31mThe kernel failed to start due to the missing module 'ipython_genutils'. Consider installing this module. \n",
      "View Jupyter <a href='command:jupyter.viewOutput'>log</a> for further details.\n",
      "<a href='https://aka.ms/kernelFailuresMissingModule'>Learn more</a>"
     ]
    }
   ],
   "source": []
  },
  {
   "cell_type": "markdown",
   "metadata": {},
   "source": [
    "# ![title](doc\\jupyter_nb\\pseudocode.png)\n"
   ]
  }
 ],
 "metadata": {
  "interpreter": {
   "hash": "01f7fb343ae16afa75a0bf551af72d5221b0249706b9790850dd85fd070cc3af"
  },
  "kernelspec": {
   "display_name": "Python 3.6.2 64-bit ('stewart_py': conda)",
   "language": "python",
   "name": "python3"
  },
  "language_info": {
   "name": "python",
   "version": "3.6.2"
  },
  "orig_nbformat": 4
 },
 "nbformat": 4,
 "nbformat_minor": 2
}
